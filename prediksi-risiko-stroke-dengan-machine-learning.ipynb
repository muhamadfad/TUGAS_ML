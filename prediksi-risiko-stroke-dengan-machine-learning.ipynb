{
 "cells": [
  {
   "cell_type": "markdown",
   "id": "2c7578c0",
   "metadata": {
    "papermill": {
     "duration": 0.009208,
     "end_time": "2023-07-11T17:53:32.022029",
     "exception": false,
     "start_time": "2023-07-11T17:53:32.012821",
     "status": "completed"
    },
    "tags": []
   },
   "source": [
    "# Prediksi Stroke menggunakan Random Forest Classifier\n",
    "\n",
    "**Penjelasan Tentang Machine Learning **\n",
    "\n",
    "\n",
    "Dalam proyek ini, kita menggunakan algoritma Random Forest Classifier untuk memprediksi apakah seseorang berisiko mengalami stroke berdasarkan fitur-fitur yang diberikan.\n",
    "\n",
    "Pertama, kita membaca dataset \"data_stroke.csv\" menggunakan library Pandas. Kemudian, kita melakukan beberapa tahap praproses data untuk mempersiapkannya sebelum digunakan dalam pemodelan. Langkah-langkah praproses meliputi:\n",
    "\n",
    "Mengisi nilai yang hilang (NaN) pada kolom \"bmi\" dengan nilai median dari kolom tersebut menggunakan metode fillna().\n",
    "\n",
    "Mengubah variabel kategorikal menjadi numerik menggunakan teknik LabelEncoder dari library scikit-learn. Variabel kategorikal seperti \"gender\", \"ever_married\", \"work_type\", \"Residence_type\", dan \"smoking_status\" diubah menjadi nilai numerik agar dapat dimasukkan ke dalam model.\n",
    "\n",
    "Selanjutnya, dataset dibagi menjadi fitur (X) dan target (y). Fitur-fitur yang akan digunakan untuk memprediksi stroke disimpan dalam variabel X, sedangkan target (apakah seseorang mengalami stroke atau tidak) disimpan dalam variabel y.\n",
    "\n",
    "Untuk menangani ketidakseimbangan kelas pada data, kita menggunakan metode oversampling dengan menggunakan SMOTE (Synthetic Minority Over-sampling Technique). Ini dilakukan untuk membuat distribusi kelas target menjadi lebih seimbang. Hasilnya, kita mendapatkan X_resampled dan y_resampled yang merupakan versi data yang telah di-oversampling.\n",
    "\n",
    "Selanjutnya, dataset dibagi menjadi data pelatihan dan data pengujian menggunakan fungsi train_test_split() dari library scikit-learn. Data pelatihan digunakan untuk melatih model, sedangkan data pengujian digunakan untuk mengevaluasi kinerja model yang telah dilatih.\n",
    "\n",
    "Kemudian, kita membangun model Random Forest Classifier dengan menggunakan library scikit-learn. Model ini akan belajar dari data pelatihan untuk mempelajari pola dan hubungan antara fitur dan target.\n",
    "\n",
    "Setelah model dilatih, kita melakukan prediksi pada data pengujian dengan menggunakan metode predict(). Prediksi ini akan menghasilkan nilai prediksi untuk setiap data pengujian.\n",
    "\n",
    "Selanjutnya, kita melakukan evaluasi kinerja model dengan menggunakan beberapa metrik, yaitu akurasi (accuracy), presisi (precision), recall, f1-score, dan confusion matrix. Metrik-metrik ini memberikan gambaran tentang seberapa baik model dapat memprediksi kasus positif dan negatif.\n",
    "\n",
    "Terakhir, hasil evaluasi kinerja model ditampilkan dengan menggunakan perintah print(). Ini akan menampilkan akurasi, presisi, recall, f1-score, dan confusion matrix pada output.\n",
    "\n",
    "Dengan menggunakan model Random Forest Classifier dan melakukan praproses data yang tepat, kita dapat memprediksi risiko seseorang mengalami stroke dengan akurasi dan performa yang baik."
   ]
  },
  {
   "cell_type": "markdown",
   "id": "62e3c10e",
   "metadata": {
    "papermill": {
     "duration": 0.008368,
     "end_time": "2023-07-11T17:53:32.039277",
     "exception": false,
     "start_time": "2023-07-11T17:53:32.030909",
     "status": "completed"
    },
    "tags": []
   },
   "source": [
    "**1. Import Library**"
   ]
  },
  {
   "cell_type": "code",
   "execution_count": 1,
   "id": "1dd8b636",
   "metadata": {
    "execution": {
     "iopub.execute_input": "2023-07-11T17:53:32.059131Z",
     "iopub.status.busy": "2023-07-11T17:53:32.058198Z",
     "iopub.status.idle": "2023-07-11T17:53:33.910649Z",
     "shell.execute_reply": "2023-07-11T17:53:33.909241Z"
    },
    "papermill": {
     "duration": 1.865619,
     "end_time": "2023-07-11T17:53:33.913429",
     "exception": false,
     "start_time": "2023-07-11T17:53:32.047810",
     "status": "completed"
    },
    "tags": []
   },
   "outputs": [
    {
     "name": "stderr",
     "output_type": "stream",
     "text": [
      "/opt/conda/lib/python3.10/site-packages/scipy/__init__.py:146: UserWarning: A NumPy version >=1.16.5 and <1.23.0 is required for this version of SciPy (detected version 1.23.5\n",
      "  warnings.warn(f\"A NumPy version >={np_minversion} and <{np_maxversion}\"\n"
     ]
    }
   ],
   "source": [
    "import pandas as pd\n",
    "from sklearn.model_selection import train_test_split\n",
    "from sklearn.preprocessing import LabelEncoder\n",
    "from sklearn.ensemble import RandomForestClassifier\n",
    "from sklearn.metrics import accuracy_score, precision_score, recall_score, f1_score, confusion_matrix\n",
    "from imblearn.over_sampling import SMOTE"
   ]
  },
  {
   "cell_type": "markdown",
   "id": "ecb2ab7f",
   "metadata": {
    "papermill": {
     "duration": 0.009135,
     "end_time": "2023-07-11T17:53:33.931509",
     "exception": false,
     "start_time": "2023-07-11T17:53:33.922374",
     "status": "completed"
    },
    "tags": []
   },
   "source": [
    "**2. Import Dataset**"
   ]
  },
  {
   "cell_type": "code",
   "execution_count": 2,
   "id": "82bbb31a",
   "metadata": {
    "execution": {
     "iopub.execute_input": "2023-07-11T17:53:33.951145Z",
     "iopub.status.busy": "2023-07-11T17:53:33.950753Z",
     "iopub.status.idle": "2023-07-11T17:53:33.995071Z",
     "shell.execute_reply": "2023-07-11T17:53:33.994105Z"
    },
    "papermill": {
     "duration": 0.057145,
     "end_time": "2023-07-11T17:53:33.997824",
     "exception": false,
     "start_time": "2023-07-11T17:53:33.940679",
     "status": "completed"
    },
    "tags": []
   },
   "outputs": [],
   "source": [
    "# Membaca dataset\n",
    "df = pd.read_csv(\"/kaggle/input/stroke/data_stroke.csv\")"
   ]
  },
  {
   "cell_type": "markdown",
   "id": "2ec3820d",
   "metadata": {
    "papermill": {
     "duration": 0.010037,
     "end_time": "2023-07-11T17:53:34.019066",
     "exception": false,
     "start_time": "2023-07-11T17:53:34.009029",
     "status": "completed"
    },
    "tags": []
   },
   "source": [
    "**3. Menampilkan dataset**"
   ]
  },
  {
   "cell_type": "code",
   "execution_count": 3,
   "id": "2fb77941",
   "metadata": {
    "execution": {
     "iopub.execute_input": "2023-07-11T17:53:34.038590Z",
     "iopub.status.busy": "2023-07-11T17:53:34.038178Z",
     "iopub.status.idle": "2023-07-11T17:53:34.066537Z",
     "shell.execute_reply": "2023-07-11T17:53:34.065356Z"
    },
    "papermill": {
     "duration": 0.040894,
     "end_time": "2023-07-11T17:53:34.068778",
     "exception": false,
     "start_time": "2023-07-11T17:53:34.027884",
     "status": "completed"
    },
    "tags": []
   },
   "outputs": [
    {
     "data": {
      "text/html": [
       "<div>\n",
       "<style scoped>\n",
       "    .dataframe tbody tr th:only-of-type {\n",
       "        vertical-align: middle;\n",
       "    }\n",
       "\n",
       "    .dataframe tbody tr th {\n",
       "        vertical-align: top;\n",
       "    }\n",
       "\n",
       "    .dataframe thead th {\n",
       "        text-align: right;\n",
       "    }\n",
       "</style>\n",
       "<table border=\"1\" class=\"dataframe\">\n",
       "  <thead>\n",
       "    <tr style=\"text-align: right;\">\n",
       "      <th></th>\n",
       "      <th>id</th>\n",
       "      <th>gender</th>\n",
       "      <th>age</th>\n",
       "      <th>hypertension</th>\n",
       "      <th>heart_disease</th>\n",
       "      <th>ever_married</th>\n",
       "      <th>work_type</th>\n",
       "      <th>Residence_type</th>\n",
       "      <th>avg_glucose_level</th>\n",
       "      <th>bmi</th>\n",
       "      <th>smoking_status</th>\n",
       "      <th>stroke</th>\n",
       "    </tr>\n",
       "  </thead>\n",
       "  <tbody>\n",
       "    <tr>\n",
       "      <th>0</th>\n",
       "      <td>9046</td>\n",
       "      <td>Male</td>\n",
       "      <td>67.0</td>\n",
       "      <td>0</td>\n",
       "      <td>1</td>\n",
       "      <td>Yes</td>\n",
       "      <td>Private</td>\n",
       "      <td>Urban</td>\n",
       "      <td>228.69</td>\n",
       "      <td>36.6</td>\n",
       "      <td>formerly smoked</td>\n",
       "      <td>1</td>\n",
       "    </tr>\n",
       "    <tr>\n",
       "      <th>1</th>\n",
       "      <td>51676</td>\n",
       "      <td>Female</td>\n",
       "      <td>61.0</td>\n",
       "      <td>0</td>\n",
       "      <td>0</td>\n",
       "      <td>Yes</td>\n",
       "      <td>Self-employed</td>\n",
       "      <td>Rural</td>\n",
       "      <td>202.21</td>\n",
       "      <td>NaN</td>\n",
       "      <td>never smoked</td>\n",
       "      <td>1</td>\n",
       "    </tr>\n",
       "    <tr>\n",
       "      <th>2</th>\n",
       "      <td>31112</td>\n",
       "      <td>Male</td>\n",
       "      <td>80.0</td>\n",
       "      <td>0</td>\n",
       "      <td>1</td>\n",
       "      <td>Yes</td>\n",
       "      <td>Private</td>\n",
       "      <td>Rural</td>\n",
       "      <td>105.92</td>\n",
       "      <td>32.5</td>\n",
       "      <td>never smoked</td>\n",
       "      <td>1</td>\n",
       "    </tr>\n",
       "    <tr>\n",
       "      <th>3</th>\n",
       "      <td>60182</td>\n",
       "      <td>Female</td>\n",
       "      <td>49.0</td>\n",
       "      <td>0</td>\n",
       "      <td>0</td>\n",
       "      <td>Yes</td>\n",
       "      <td>Private</td>\n",
       "      <td>Urban</td>\n",
       "      <td>171.23</td>\n",
       "      <td>34.4</td>\n",
       "      <td>smokes</td>\n",
       "      <td>1</td>\n",
       "    </tr>\n",
       "    <tr>\n",
       "      <th>4</th>\n",
       "      <td>1665</td>\n",
       "      <td>Female</td>\n",
       "      <td>79.0</td>\n",
       "      <td>1</td>\n",
       "      <td>0</td>\n",
       "      <td>Yes</td>\n",
       "      <td>Self-employed</td>\n",
       "      <td>Rural</td>\n",
       "      <td>174.12</td>\n",
       "      <td>24.0</td>\n",
       "      <td>never smoked</td>\n",
       "      <td>1</td>\n",
       "    </tr>\n",
       "  </tbody>\n",
       "</table>\n",
       "</div>"
      ],
      "text/plain": [
       "      id  gender   age  hypertension  heart_disease ever_married  \\\n",
       "0   9046    Male  67.0             0              1          Yes   \n",
       "1  51676  Female  61.0             0              0          Yes   \n",
       "2  31112    Male  80.0             0              1          Yes   \n",
       "3  60182  Female  49.0             0              0          Yes   \n",
       "4   1665  Female  79.0             1              0          Yes   \n",
       "\n",
       "       work_type Residence_type  avg_glucose_level   bmi   smoking_status  \\\n",
       "0        Private          Urban             228.69  36.6  formerly smoked   \n",
       "1  Self-employed          Rural             202.21   NaN     never smoked   \n",
       "2        Private          Rural             105.92  32.5     never smoked   \n",
       "3        Private          Urban             171.23  34.4           smokes   \n",
       "4  Self-employed          Rural             174.12  24.0     never smoked   \n",
       "\n",
       "   stroke  \n",
       "0       1  \n",
       "1       1  \n",
       "2       1  \n",
       "3       1  \n",
       "4       1  "
      ]
     },
     "execution_count": 3,
     "metadata": {},
     "output_type": "execute_result"
    }
   ],
   "source": [
    "df.head()"
   ]
  },
  {
   "cell_type": "markdown",
   "id": "f4511d80",
   "metadata": {
    "papermill": {
     "duration": 0.008707,
     "end_time": "2023-07-11T17:53:34.086644",
     "exception": false,
     "start_time": "2023-07-11T17:53:34.077937",
     "status": "completed"
    },
    "tags": []
   },
   "source": [
    "**4. Mengisi nilai yang hilang (NaN) dengan median pada kolom \"bmi\":**"
   ]
  },
  {
   "cell_type": "code",
   "execution_count": 4,
   "id": "6e81265d",
   "metadata": {
    "execution": {
     "iopub.execute_input": "2023-07-11T17:53:34.106879Z",
     "iopub.status.busy": "2023-07-11T17:53:34.106375Z",
     "iopub.status.idle": "2023-07-11T17:53:34.115786Z",
     "shell.execute_reply": "2023-07-11T17:53:34.114830Z"
    },
    "papermill": {
     "duration": 0.022201,
     "end_time": "2023-07-11T17:53:34.117948",
     "exception": false,
     "start_time": "2023-07-11T17:53:34.095747",
     "status": "completed"
    },
    "tags": []
   },
   "outputs": [],
   "source": [
    "# Mengisi nilai yang hilang (NaN) dengan median pada kolom bmi\n",
    "df[\"bmi\"].fillna(df[\"bmi\"].median(), inplace=True)"
   ]
  },
  {
   "cell_type": "markdown",
   "id": "48371836",
   "metadata": {
    "papermill": {
     "duration": 0.008728,
     "end_time": "2023-07-11T17:53:34.135872",
     "exception": false,
     "start_time": "2023-07-11T17:53:34.127144",
     "status": "completed"
    },
    "tags": []
   },
   "source": [
    "**5. Mengubah variabel kategorikal menjadi numerik menggunakan LabelEncoder:**"
   ]
  },
  {
   "cell_type": "code",
   "execution_count": 5,
   "id": "1a48db90",
   "metadata": {
    "execution": {
     "iopub.execute_input": "2023-07-11T17:53:34.156234Z",
     "iopub.status.busy": "2023-07-11T17:53:34.155801Z",
     "iopub.status.idle": "2023-07-11T17:53:34.175326Z",
     "shell.execute_reply": "2023-07-11T17:53:34.174201Z"
    },
    "papermill": {
     "duration": 0.032603,
     "end_time": "2023-07-11T17:53:34.177628",
     "exception": false,
     "start_time": "2023-07-11T17:53:34.145025",
     "status": "completed"
    },
    "tags": []
   },
   "outputs": [],
   "source": [
    "# Mengubah variabel kategorikal menjadi numerik\n",
    "label_encoder = LabelEncoder()\n",
    "df[\"gender\"] = label_encoder.fit_transform(df[\"gender\"])\n",
    "df[\"ever_married\"] = label_encoder.fit_transform(df[\"ever_married\"])\n",
    "df[\"work_type\"] = label_encoder.fit_transform(df[\"work_type\"])\n",
    "df[\"Residence_type\"] = label_encoder.fit_transform(df[\"Residence_type\"])\n",
    "df[\"smoking_status\"] = label_encoder.fit_transform(df[\"smoking_status\"])"
   ]
  },
  {
   "cell_type": "markdown",
   "id": "f803efd2",
   "metadata": {
    "papermill": {
     "duration": 0.008856,
     "end_time": "2023-07-11T17:53:34.195523",
     "exception": false,
     "start_time": "2023-07-11T17:53:34.186667",
     "status": "completed"
    },
    "tags": []
   },
   "source": [
    "**6. Memisahkan fitur (X) dan target (y) dari dataset:**"
   ]
  },
  {
   "cell_type": "code",
   "execution_count": 6,
   "id": "8b1813ef",
   "metadata": {
    "execution": {
     "iopub.execute_input": "2023-07-11T17:53:34.215712Z",
     "iopub.status.busy": "2023-07-11T17:53:34.215195Z",
     "iopub.status.idle": "2023-07-11T17:53:34.225921Z",
     "shell.execute_reply": "2023-07-11T17:53:34.224775Z"
    },
    "papermill": {
     "duration": 0.023483,
     "end_time": "2023-07-11T17:53:34.228099",
     "exception": false,
     "start_time": "2023-07-11T17:53:34.204616",
     "status": "completed"
    },
    "tags": []
   },
   "outputs": [],
   "source": [
    "# Memisahkan fitur dan target\n",
    "X = df.drop(\"stroke\", axis=1)\n",
    "y = df[\"stroke\"]\n"
   ]
  },
  {
   "cell_type": "markdown",
   "id": "0627205c",
   "metadata": {
    "papermill": {
     "duration": 0.00871,
     "end_time": "2023-07-11T17:53:34.245893",
     "exception": false,
     "start_time": "2023-07-11T17:53:34.237183",
     "status": "completed"
    },
    "tags": []
   },
   "source": [
    "**7. Mengubah tipe data target menjadi numerik menggunakan LabelEncoder:**"
   ]
  },
  {
   "cell_type": "code",
   "execution_count": 7,
   "id": "05bb9aab",
   "metadata": {
    "execution": {
     "iopub.execute_input": "2023-07-11T17:53:34.265726Z",
     "iopub.status.busy": "2023-07-11T17:53:34.265313Z",
     "iopub.status.idle": "2023-07-11T17:53:34.271142Z",
     "shell.execute_reply": "2023-07-11T17:53:34.269981Z"
    },
    "papermill": {
     "duration": 0.01854,
     "end_time": "2023-07-11T17:53:34.273346",
     "exception": false,
     "start_time": "2023-07-11T17:53:34.254806",
     "status": "completed"
    },
    "tags": []
   },
   "outputs": [],
   "source": [
    "# Mengubah tipe data target menjadi numerik\n",
    "label_encoder = LabelEncoder()\n",
    "y = label_encoder.fit_transform(y)"
   ]
  },
  {
   "cell_type": "markdown",
   "id": "c78cf7fc",
   "metadata": {
    "papermill": {
     "duration": 0.008755,
     "end_time": "2023-07-11T17:53:34.291152",
     "exception": false,
     "start_time": "2023-07-11T17:53:34.282397",
     "status": "completed"
    },
    "tags": []
   },
   "source": [
    "**8. Melakukan oversampling menggunakan SMOTE untuk menangani ketidakseimbangan kelas:**"
   ]
  },
  {
   "cell_type": "code",
   "execution_count": 8,
   "id": "6beccb10",
   "metadata": {
    "execution": {
     "iopub.execute_input": "2023-07-11T17:53:34.310948Z",
     "iopub.status.busy": "2023-07-11T17:53:34.310534Z",
     "iopub.status.idle": "2023-07-11T17:53:34.335710Z",
     "shell.execute_reply": "2023-07-11T17:53:34.334814Z"
    },
    "papermill": {
     "duration": 0.037961,
     "end_time": "2023-07-11T17:53:34.338119",
     "exception": false,
     "start_time": "2023-07-11T17:53:34.300158",
     "status": "completed"
    },
    "tags": []
   },
   "outputs": [],
   "source": [
    "# Melakukan oversampling menggunakan SMOTE\n",
    "smote = SMOTE(random_state=42)\n",
    "X_resampled, y_resampled = smote.fit_resample(X, y)"
   ]
  },
  {
   "cell_type": "markdown",
   "id": "8851546f",
   "metadata": {
    "papermill": {
     "duration": 0.00882,
     "end_time": "2023-07-11T17:53:34.356093",
     "exception": false,
     "start_time": "2023-07-11T17:53:34.347273",
     "status": "completed"
    },
    "tags": []
   },
   "source": [
    "**9. Membagi data menjadi data pelatihan dan pengujian menggunakan train_test_split:**"
   ]
  },
  {
   "cell_type": "code",
   "execution_count": 9,
   "id": "ccbdfc57",
   "metadata": {
    "execution": {
     "iopub.execute_input": "2023-07-11T17:53:34.375779Z",
     "iopub.status.busy": "2023-07-11T17:53:34.375367Z",
     "iopub.status.idle": "2023-07-11T17:53:34.384789Z",
     "shell.execute_reply": "2023-07-11T17:53:34.383597Z"
    },
    "papermill": {
     "duration": 0.021928,
     "end_time": "2023-07-11T17:53:34.386894",
     "exception": false,
     "start_time": "2023-07-11T17:53:34.364966",
     "status": "completed"
    },
    "tags": []
   },
   "outputs": [],
   "source": [
    "# Membagi data menjadi data pelatihan dan pengujian\n",
    "X_train, X_test, y_train, y_test = train_test_split(X_resampled, y_resampled, test_size=0.2, random_state=42)"
   ]
  },
  {
   "cell_type": "markdown",
   "id": "5603041e",
   "metadata": {
    "papermill": {
     "duration": 0.008934,
     "end_time": "2023-07-11T17:53:34.404738",
     "exception": false,
     "start_time": "2023-07-11T17:53:34.395804",
     "status": "completed"
    },
    "tags": []
   },
   "source": [
    "**10. Menampilkan data pelatihan dan pengujian train_test_split**"
   ]
  },
  {
   "cell_type": "code",
   "execution_count": 10,
   "id": "9fe5fe81",
   "metadata": {
    "execution": {
     "iopub.execute_input": "2023-07-11T17:53:34.424541Z",
     "iopub.status.busy": "2023-07-11T17:53:34.424088Z",
     "iopub.status.idle": "2023-07-11T17:53:34.445232Z",
     "shell.execute_reply": "2023-07-11T17:53:34.443974Z"
    },
    "papermill": {
     "duration": 0.033813,
     "end_time": "2023-07-11T17:53:34.447514",
     "exception": false,
     "start_time": "2023-07-11T17:53:34.413701",
     "status": "completed"
    },
    "tags": []
   },
   "outputs": [
    {
     "name": "stdout",
     "output_type": "stream",
     "text": [
      "X_train:          id  gender        age  hypertension  heart_disease  ever_married  \\\n",
      "5377  28432       0  63.569568             0              0             1   \n",
      "6692  67957       0  80.541866             0              0             1   \n",
      "4996   6976       0  40.000000             0              0             1   \n",
      "1561  47558       1  62.000000             1              1             1   \n",
      "2114  25996       0  29.000000             0              0             1   \n",
      "...     ...     ...        ...           ...            ...           ...   \n",
      "5734   8105       1  71.020964             0              0             1   \n",
      "5191   8183       1  67.510024             0              0             1   \n",
      "5390   4980       0  62.833127             0              0             1   \n",
      "860   28933       0  46.000000             0              0             1   \n",
      "7270  56121       1  64.291378             0              0             1   \n",
      "\n",
      "      work_type  Residence_type  avg_glucose_level        bmi  smoking_status  \n",
      "5377          2               1         128.309399  31.132628               0  \n",
      "6692          0               0         146.333560  28.143022               1  \n",
      "4996          2               1          93.970000  23.600000               2  \n",
      "1561          2               1         123.950000  34.800000               1  \n",
      "2114          2               1          81.200000  23.000000               0  \n",
      "...         ...             ...                ...        ...             ...  \n",
      "5734          1               1         217.199598  25.036979               1  \n",
      "5191          1               1         149.447263  27.900191               0  \n",
      "5390          0               0         147.485162  24.984631               1  \n",
      "860           2               0         100.150000  50.300000               3  \n",
      "7270          2               1         191.517445  37.354311               2  \n",
      "\n",
      "[7777 rows x 11 columns]\n",
      "X_test:          id  gender        age  hypertension  heart_disease  ever_married  \\\n",
      "1145  19996       0   7.000000             0              0             0   \n",
      "8501  51179       0  80.786225             0              0             1   \n",
      "3903  23850       1  66.000000             0              0             1   \n",
      "1608   9011       1  59.000000             0              0             1   \n",
      "9139  56370       1  61.874555             0              1             1   \n",
      "...     ...     ...        ...           ...            ...           ...   \n",
      "6255  16574       1  70.970352             0              0             0   \n",
      "1918  33144       0  68.000000             0              0             0   \n",
      "9530   2384       0  64.792263             0              0             1   \n",
      "4184  36045       0  35.000000             0              0             1   \n",
      "5953  16850       0  77.594934             1              0             0   \n",
      "\n",
      "      work_type  Residence_type  avg_glucose_level        bmi  smoking_status  \n",
      "1145          4               1          88.600000  17.400000               0  \n",
      "8501          2               1          75.227795  26.777431               1  \n",
      "3903          2               1         103.010000  33.100000               2  \n",
      "1608          2               1          93.580000  25.100000               3  \n",
      "9139          2               0         208.960715  35.339131               3  \n",
      "...         ...             ...                ...        ...             ...  \n",
      "6255          2               1         114.734607  28.920753               1  \n",
      "1918          0               1         121.660000  29.100000               3  \n",
      "9530          2               0         134.372886  29.526375               2  \n",
      "4184          2               0         119.400000  22.900000               2  \n",
      "5953          2               1         136.700386  20.768360               2  \n",
      "\n",
      "[1945 rows x 11 columns]\n",
      "y_train: [1 1 0 ... 1 0 1]\n",
      "y_test: [0 1 0 ... 1 0 1]\n"
     ]
    }
   ],
   "source": [
    "print(\"X_train:\", X_train)\n",
    "print(\"X_test:\", X_test)\n",
    "print(\"y_train:\", y_train)\n",
    "print(\"y_test:\", y_test)"
   ]
  },
  {
   "cell_type": "markdown",
   "id": "c0d131d4",
   "metadata": {
    "papermill": {
     "duration": 0.009083,
     "end_time": "2023-07-11T17:53:34.465907",
     "exception": false,
     "start_time": "2023-07-11T17:53:34.456824",
     "status": "completed"
    },
    "tags": []
   },
   "source": [
    "**11. Membangun model Random Forest Classifier:**"
   ]
  },
  {
   "cell_type": "code",
   "execution_count": 11,
   "id": "b6301c82",
   "metadata": {
    "execution": {
     "iopub.execute_input": "2023-07-11T17:53:34.486425Z",
     "iopub.status.busy": "2023-07-11T17:53:34.485943Z",
     "iopub.status.idle": "2023-07-11T17:53:35.803543Z",
     "shell.execute_reply": "2023-07-11T17:53:35.802349Z"
    },
    "papermill": {
     "duration": 1.330623,
     "end_time": "2023-07-11T17:53:35.805764",
     "exception": false,
     "start_time": "2023-07-11T17:53:34.475141",
     "status": "completed"
    },
    "tags": []
   },
   "outputs": [
    {
     "data": {
      "text/html": [
       "<style>#sk-container-id-1 {color: black;background-color: white;}#sk-container-id-1 pre{padding: 0;}#sk-container-id-1 div.sk-toggleable {background-color: white;}#sk-container-id-1 label.sk-toggleable__label {cursor: pointer;display: block;width: 100%;margin-bottom: 0;padding: 0.3em;box-sizing: border-box;text-align: center;}#sk-container-id-1 label.sk-toggleable__label-arrow:before {content: \"▸\";float: left;margin-right: 0.25em;color: #696969;}#sk-container-id-1 label.sk-toggleable__label-arrow:hover:before {color: black;}#sk-container-id-1 div.sk-estimator:hover label.sk-toggleable__label-arrow:before {color: black;}#sk-container-id-1 div.sk-toggleable__content {max-height: 0;max-width: 0;overflow: hidden;text-align: left;background-color: #f0f8ff;}#sk-container-id-1 div.sk-toggleable__content pre {margin: 0.2em;color: black;border-radius: 0.25em;background-color: #f0f8ff;}#sk-container-id-1 input.sk-toggleable__control:checked~div.sk-toggleable__content {max-height: 200px;max-width: 100%;overflow: auto;}#sk-container-id-1 input.sk-toggleable__control:checked~label.sk-toggleable__label-arrow:before {content: \"▾\";}#sk-container-id-1 div.sk-estimator input.sk-toggleable__control:checked~label.sk-toggleable__label {background-color: #d4ebff;}#sk-container-id-1 div.sk-label input.sk-toggleable__control:checked~label.sk-toggleable__label {background-color: #d4ebff;}#sk-container-id-1 input.sk-hidden--visually {border: 0;clip: rect(1px 1px 1px 1px);clip: rect(1px, 1px, 1px, 1px);height: 1px;margin: -1px;overflow: hidden;padding: 0;position: absolute;width: 1px;}#sk-container-id-1 div.sk-estimator {font-family: monospace;background-color: #f0f8ff;border: 1px dotted black;border-radius: 0.25em;box-sizing: border-box;margin-bottom: 0.5em;}#sk-container-id-1 div.sk-estimator:hover {background-color: #d4ebff;}#sk-container-id-1 div.sk-parallel-item::after {content: \"\";width: 100%;border-bottom: 1px solid gray;flex-grow: 1;}#sk-container-id-1 div.sk-label:hover label.sk-toggleable__label {background-color: #d4ebff;}#sk-container-id-1 div.sk-serial::before {content: \"\";position: absolute;border-left: 1px solid gray;box-sizing: border-box;top: 0;bottom: 0;left: 50%;z-index: 0;}#sk-container-id-1 div.sk-serial {display: flex;flex-direction: column;align-items: center;background-color: white;padding-right: 0.2em;padding-left: 0.2em;position: relative;}#sk-container-id-1 div.sk-item {position: relative;z-index: 1;}#sk-container-id-1 div.sk-parallel {display: flex;align-items: stretch;justify-content: center;background-color: white;position: relative;}#sk-container-id-1 div.sk-item::before, #sk-container-id-1 div.sk-parallel-item::before {content: \"\";position: absolute;border-left: 1px solid gray;box-sizing: border-box;top: 0;bottom: 0;left: 50%;z-index: -1;}#sk-container-id-1 div.sk-parallel-item {display: flex;flex-direction: column;z-index: 1;position: relative;background-color: white;}#sk-container-id-1 div.sk-parallel-item:first-child::after {align-self: flex-end;width: 50%;}#sk-container-id-1 div.sk-parallel-item:last-child::after {align-self: flex-start;width: 50%;}#sk-container-id-1 div.sk-parallel-item:only-child::after {width: 0;}#sk-container-id-1 div.sk-dashed-wrapped {border: 1px dashed gray;margin: 0 0.4em 0.5em 0.4em;box-sizing: border-box;padding-bottom: 0.4em;background-color: white;}#sk-container-id-1 div.sk-label label {font-family: monospace;font-weight: bold;display: inline-block;line-height: 1.2em;}#sk-container-id-1 div.sk-label-container {text-align: center;}#sk-container-id-1 div.sk-container {/* jupyter's `normalize.less` sets `[hidden] { display: none; }` but bootstrap.min.css set `[hidden] { display: none !important; }` so we also need the `!important` here to be able to override the default hidden behavior on the sphinx rendered scikit-learn.org. See: https://github.com/scikit-learn/scikit-learn/issues/21755 */display: inline-block !important;position: relative;}#sk-container-id-1 div.sk-text-repr-fallback {display: none;}</style><div id=\"sk-container-id-1\" class=\"sk-top-container\"><div class=\"sk-text-repr-fallback\"><pre>RandomForestClassifier()</pre><b>In a Jupyter environment, please rerun this cell to show the HTML representation or trust the notebook. <br />On GitHub, the HTML representation is unable to render, please try loading this page with nbviewer.org.</b></div><div class=\"sk-container\" hidden><div class=\"sk-item\"><div class=\"sk-estimator sk-toggleable\"><input class=\"sk-toggleable__control sk-hidden--visually\" id=\"sk-estimator-id-1\" type=\"checkbox\" checked><label for=\"sk-estimator-id-1\" class=\"sk-toggleable__label sk-toggleable__label-arrow\">RandomForestClassifier</label><div class=\"sk-toggleable__content\"><pre>RandomForestClassifier()</pre></div></div></div></div></div>"
      ],
      "text/plain": [
       "RandomForestClassifier()"
      ]
     },
     "execution_count": 11,
     "metadata": {},
     "output_type": "execute_result"
    }
   ],
   "source": [
    "# Membangun model Random Forest\n",
    "model = RandomForestClassifier()\n",
    "model.fit(X_train, y_train)"
   ]
  },
  {
   "cell_type": "markdown",
   "id": "3c44b187",
   "metadata": {
    "papermill": {
     "duration": 0.009378,
     "end_time": "2023-07-11T17:53:35.824619",
     "exception": false,
     "start_time": "2023-07-11T17:53:35.815241",
     "status": "completed"
    },
    "tags": []
   },
   "source": [
    "**12. Melakukan prediksi pada data pengujian:**"
   ]
  },
  {
   "cell_type": "code",
   "execution_count": 12,
   "id": "f4501ccd",
   "metadata": {
    "execution": {
     "iopub.execute_input": "2023-07-11T17:53:35.845686Z",
     "iopub.status.busy": "2023-07-11T17:53:35.845238Z",
     "iopub.status.idle": "2023-07-11T17:53:35.903620Z",
     "shell.execute_reply": "2023-07-11T17:53:35.902681Z"
    },
    "papermill": {
     "duration": 0.071778,
     "end_time": "2023-07-11T17:53:35.906018",
     "exception": false,
     "start_time": "2023-07-11T17:53:35.834240",
     "status": "completed"
    },
    "tags": []
   },
   "outputs": [],
   "source": [
    "# Melakukan prediksi pada data pengujian\n",
    "y_pred = model.predict(X_test)"
   ]
  },
  {
   "cell_type": "markdown",
   "id": "2407f0b6",
   "metadata": {
    "papermill": {
     "duration": 0.011265,
     "end_time": "2023-07-11T17:53:35.928833",
     "exception": false,
     "start_time": "2023-07-11T17:53:35.917568",
     "status": "completed"
    },
    "tags": []
   },
   "source": [
    "**13. Evaluasi model menggunakan beberapa metrik:**"
   ]
  },
  {
   "cell_type": "code",
   "execution_count": 13,
   "id": "2ec2b713",
   "metadata": {
    "execution": {
     "iopub.execute_input": "2023-07-11T17:53:35.957199Z",
     "iopub.status.busy": "2023-07-11T17:53:35.956207Z",
     "iopub.status.idle": "2023-07-11T17:53:35.980612Z",
     "shell.execute_reply": "2023-07-11T17:53:35.979447Z"
    },
    "papermill": {
     "duration": 0.042292,
     "end_time": "2023-07-11T17:53:35.983127",
     "exception": false,
     "start_time": "2023-07-11T17:53:35.940835",
     "status": "completed"
    },
    "tags": []
   },
   "outputs": [],
   "source": [
    "# Evaluasi model\n",
    "accuracy = accuracy_score(y_test, y_pred)\n",
    "precision = precision_score(y_test, y_pred)\n",
    "recall = recall_score(y_test, y_pred)\n",
    "f1 = f1_score(y_test, y_pred)\n",
    "confusion_mat = confusion_matrix(y_test, y_pred)"
   ]
  },
  {
   "cell_type": "markdown",
   "id": "aabb90f9",
   "metadata": {
    "papermill": {
     "duration": 0.009585,
     "end_time": "2023-07-11T17:53:36.004258",
     "exception": false,
     "start_time": "2023-07-11T17:53:35.994673",
     "status": "completed"
    },
    "tags": []
   },
   "source": [
    "**14. Menampilkan hasil evaluasi**"
   ]
  },
  {
   "cell_type": "code",
   "execution_count": 14,
   "id": "883cfca2",
   "metadata": {
    "execution": {
     "iopub.execute_input": "2023-07-11T17:53:36.027854Z",
     "iopub.status.busy": "2023-07-11T17:53:36.026984Z",
     "iopub.status.idle": "2023-07-11T17:53:36.034915Z",
     "shell.execute_reply": "2023-07-11T17:53:36.033546Z"
    },
    "papermill": {
     "duration": 0.021786,
     "end_time": "2023-07-11T17:53:36.037173",
     "exception": false,
     "start_time": "2023-07-11T17:53:36.015387",
     "status": "completed"
    },
    "tags": []
   },
   "outputs": [
    {
     "name": "stdout",
     "output_type": "stream",
     "text": [
      "Accuracy: 0.9357326478149101\n",
      "Precision: 0.9138099902056807\n",
      "Recall: 0.9618556701030928\n",
      "F1-Score: 0.9372174786539427\n"
     ]
    }
   ],
   "source": [
    "# Menampilkan hasil evaluasi\n",
    "print(\"Accuracy:\", accuracy)\n",
    "print(\"Precision:\", precision)\n",
    "print(\"Recall:\", recall)\n",
    "print(\"F1-Score:\", f1)\n",
    "\n"
   ]
  },
  {
   "cell_type": "markdown",
   "id": "926e9649",
   "metadata": {
    "papermill": {
     "duration": 0.009412,
     "end_time": "2023-07-11T17:53:36.056262",
     "exception": false,
     "start_time": "2023-07-11T17:53:36.046850",
     "status": "completed"
    },
    "tags": []
   },
   "source": [
    "**15. Menampilkan hasil evaluasi Confusion Matriks**"
   ]
  },
  {
   "cell_type": "code",
   "execution_count": 15,
   "id": "85b99c40",
   "metadata": {
    "execution": {
     "iopub.execute_input": "2023-07-11T17:53:36.080631Z",
     "iopub.status.busy": "2023-07-11T17:53:36.079396Z",
     "iopub.status.idle": "2023-07-11T17:53:36.087090Z",
     "shell.execute_reply": "2023-07-11T17:53:36.086020Z"
    },
    "papermill": {
     "duration": 0.025254,
     "end_time": "2023-07-11T17:53:36.091532",
     "exception": false,
     "start_time": "2023-07-11T17:53:36.066278",
     "status": "completed"
    },
    "tags": []
   },
   "outputs": [
    {
     "name": "stdout",
     "output_type": "stream",
     "text": [
      "Confusion Matrix:\n",
      "                  Prediksi Negatif   Prediksi Positif\n",
      "Aktual Negatif      887              88\n",
      "Aktual Positif      37              933\n"
     ]
    }
   ],
   "source": [
    "# Menampilkan hasil evaluasi\n",
    "print(\"Confusion Matrix:\")\n",
    "print(\"                  Prediksi Negatif   Prediksi Positif\")\n",
    "print(f\"Aktual Negatif      {confusion_mat[0, 0]}              {confusion_mat[0, 1]}\")\n",
    "print(f\"Aktual Positif      {confusion_mat[1, 0]}              {confusion_mat[1, 1]}\")"
   ]
  },
  {
   "cell_type": "markdown",
   "id": "a15c7168",
   "metadata": {
    "papermill": {
     "duration": 0.011058,
     "end_time": "2023-07-11T17:53:36.116721",
     "exception": false,
     "start_time": "2023-07-11T17:53:36.105663",
     "status": "completed"
    },
    "tags": []
   },
   "source": [
    "**Credit**\n",
    "\n",
    "1. Muhamad Fadli (E1E121072)"
   ]
  }
 ],
 "metadata": {
  "kernelspec": {
   "display_name": "Python 3",
   "language": "python",
   "name": "python3"
  },
  "language_info": {
   "codemirror_mode": {
    "name": "ipython",
    "version": 3
   },
   "file_extension": ".py",
   "mimetype": "text/x-python",
   "name": "python",
   "nbconvert_exporter": "python",
   "pygments_lexer": "ipython3",
   "version": "3.10.12"
  },
  "papermill": {
   "default_parameters": {},
   "duration": 15.941903,
   "end_time": "2023-07-11T17:53:37.048764",
   "environment_variables": {},
   "exception": null,
   "input_path": "__notebook__.ipynb",
   "output_path": "__notebook__.ipynb",
   "parameters": {},
   "start_time": "2023-07-11T17:53:21.106861",
   "version": "2.4.0"
  }
 },
 "nbformat": 4,
 "nbformat_minor": 5
}
